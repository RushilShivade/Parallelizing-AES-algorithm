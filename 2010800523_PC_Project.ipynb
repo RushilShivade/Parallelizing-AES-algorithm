{
  "nbformat": 4,
  "nbformat_minor": 0,
  "metadata": {
    "colab": {
      "provenance": [],
      "gpuType": "T4"
    },
    "kernelspec": {
      "name": "python3",
      "display_name": "Python 3"
    },
    "language_info": {
      "name": "python"
    },
    "accelerator": "GPU",
    "gpuClass": "standard"
  },
  "cells": [
    {
      "cell_type": "code",
      "source": [
        "pip install pycryptodome"
      ],
      "metadata": {
        "colab": {
          "base_uri": "https://localhost:8080/"
        },
        "id": "QsGXSHaW2awu",
        "outputId": "a8b78da5-81d8-4117-81e7-662803294b61"
      },
      "execution_count": null,
      "outputs": [
        {
          "output_type": "stream",
          "name": "stdout",
          "text": [
            "Looking in indexes: https://pypi.org/simple, https://us-python.pkg.dev/colab-wheels/public/simple/\n",
            "Requirement already satisfied: pycryptodome in /usr/local/lib/python3.10/dist-packages (3.17)\n"
          ]
        }
      ]
    },
    {
      "cell_type": "code",
      "source": [
        "pip install mpi4py"
      ],
      "metadata": {
        "colab": {
          "base_uri": "https://localhost:8080/"
        },
        "id": "qxVATNt12iDl",
        "outputId": "89b21d56-8bb0-4888-f4a6-c330066d3f89"
      },
      "execution_count": null,
      "outputs": [
        {
          "output_type": "stream",
          "name": "stdout",
          "text": [
            "Looking in indexes: https://pypi.org/simple, https://us-python.pkg.dev/colab-wheels/public/simple/\n",
            "Requirement already satisfied: mpi4py in /usr/local/lib/python3.10/dist-packages (3.1.4)\n"
          ]
        }
      ]
    },
    {
      "cell_type": "code",
      "source": [
        "!apt-get install -y python3-tk"
      ],
      "metadata": {
        "colab": {
          "base_uri": "https://localhost:8080/"
        },
        "id": "MJ-VK6VfQcLX",
        "outputId": "a0ac59ec-cbbc-4e0f-aa1c-f6130ce7d6ff"
      },
      "execution_count": null,
      "outputs": [
        {
          "output_type": "stream",
          "name": "stdout",
          "text": [
            "Reading package lists... Done\n",
            "Building dependency tree       \n",
            "Reading state information... Done\n",
            "python3-tk is already the newest version (3.8.10-0ubuntu1~20.04).\n",
            "0 upgraded, 0 newly installed, 0 to remove and 25 not upgraded.\n"
          ]
        }
      ]
    },
    {
      "cell_type": "code",
      "execution_count": null,
      "metadata": {
        "id": "-B2X7Vfg1_o7"
      },
      "outputs": [],
      "source": [
        "import os\n",
        "import multiprocessing\n",
        "import threading\n",
        "from Crypto.Cipher import AES\n",
        "from Crypto.Util import Counter\n",
        "import time\n",
        "import numpy as np\n",
        "import math\n",
        "import random\n",
        "import string\n",
        "import secrets\n",
        "import ctypes\n",
        "import sys\n",
        "import itertools\n",
        "from mpi4py import MPI"
      ]
    },
    {
      "cell_type": "code",
      "source": [
        "# MPI initialization\n",
        "comm = MPI.COMM_WORLD\n",
        "rank = comm.Get_rank()\n",
        "size = comm.Get_size()"
      ],
      "metadata": {
        "id": "DRoAO8ccdxv2"
      },
      "execution_count": null,
      "outputs": []
    },
    {
      "cell_type": "code",
      "source": [
        "# AES key and block size\n",
        "key_size = 16\n",
        "block_size = 16"
      ],
      "metadata": {
        "id": "JiFP86LkdzV0"
      },
      "execution_count": null,
      "outputs": []
    },
    {
      "cell_type": "code",
      "source": [
        "# Function for padding the input data\n",
        "def pad_data(data):\n",
        "    padding = block_size - len(data) % block_size\n",
        "    return data + bytes([padding] * padding)"
      ],
      "metadata": {
        "id": "SlFfxyRBfAlk"
      },
      "execution_count": null,
      "outputs": []
    },
    {
      "cell_type": "code",
      "source": [
        "# Function for unpadding the decrypted data\n",
        "def unpad_data(data):\n",
        "    padding = data[-1]\n",
        "    return data[:-padding]"
      ],
      "metadata": {
        "id": "v57ayqDzfCuN"
      },
      "execution_count": null,
      "outputs": []
    },
    {
      "cell_type": "code",
      "source": [
        "# Function for encrypting data using AES algorithm\n",
        "def encrypt_data(data, key):\n",
        "    cipher = AES.new(key, AES.MODE_ECB)\n",
        "    padded_data = pad_data(data)\n",
        "    encrypted_data = cipher.encrypt(padded_data)\n",
        "    return encrypted_data"
      ],
      "metadata": {
        "id": "l420o7W5fD9N"
      },
      "execution_count": null,
      "outputs": []
    },
    {
      "cell_type": "code",
      "source": [
        "# Function for decrypting data using AES algorithm\n",
        "def decrypt_data(data, key):\n",
        "    cipher = AES.new(key, AES.MODE_ECB)\n",
        "    decrypted_data = cipher.decrypt(data)\n",
        "    unpadded_data = unpad_data(decrypted_data)\n",
        "    return unpadded_data"
      ],
      "metadata": {
        "id": "7Mr3qyaLfE51"
      },
      "execution_count": null,
      "outputs": []
    },
    {
      "cell_type": "code",
      "source": [
        "# Main function for encryption/decryption\n",
        "def main():\n",
        "    # Get input for encryption/decryption\n",
        "    if rank == 0:\n",
        "        option = input(\"Select option:\\n1. Encryption\\n2. Decryption\\nEnter option number: \")\n",
        "        if option == \"1\":\n",
        "            plaintext = input(\"Enter plaintext: \")\n",
        "            data = plaintext.encode()\n",
        "        elif option == \"2\":\n",
        "            ciphertext = input(\"Enter ciphertext: \")\n",
        "            data = bytes.fromhex(ciphertext)\n",
        "        else:\n",
        "            print(\"Invalid option!\")\n",
        "            return\n",
        "    else:\n",
        "        data = None\n",
        "    # Broadcast input data to all processes\n",
        "    data = comm.bcast(data, root=0)\n",
        "    # Generate AES key\n",
        "    if rank == 0:\n",
        "        key = input(\"Enter AES key ({} bytes): \".format(key_size)).encode()\n",
        "        key = key[:key_size]\n",
        "    else:\n",
        "        key = None\n",
        "    # Broadcast AES key to all processes\n",
        "    key = comm.bcast(key, root=0)\n",
        "    # Encrypt or decrypt data using AES algorithm\n",
        "    start_time = time.time()\n",
        "    if option == \"1\":\n",
        "        chunk_size = len(data) // size\n",
        "        sendbuf = [data[i:i+chunk_size] for i in range(0, len(data), chunk_size)]\n",
        "        recvbuf = comm.scatter(sendbuf, root=0)\n",
        "        encrypted_data = encrypt_data(recvbuf, key)\n",
        "        encrypted_data = comm.gather(encrypted_data, root=0)\n",
        "        if rank == 0:\n",
        "            ciphertext = b\"\".join(encrypted_data).hex()\n",
        "            print(\"Ciphertext: {}\".format(ciphertext))\n",
        "    elif option == \"2\":\n",
        "        chunk_size = len(data) // size\n",
        "        sendbuf = [data[i:i+chunk_size] for i in range(0, len(data), chunk_size)]\n",
        "        recvbuf = comm.scatter(sendbuf, root=0)\n",
        "        decrypted_data = decrypt_data(recvbuf, key)\n",
        "        decrypted_data = comm.gather(decrypted_data, root=0)\n",
        "        if rank == 0:\n",
        "            plaintext = b\"\".join(decrypted_data).decode()\n",
        "            print(\"Plaintext: {}\".format(plaintext))\n",
        "    end_time = time.time()\n",
        "    # Display execution time\n",
        "    if rank == 0:\n",
        "        print(\"Execution time: {:.6f} seconds\".format(end_time - start_time))\n",
        "\n",
        "if __name__ == \"__main__\":\n",
        "    main()"
      ],
      "metadata": {
        "colab": {
          "base_uri": "https://localhost:8080/"
        },
        "id": "A9owuLEt-h-1",
        "outputId": "61744a1a-4a0e-4af0-ac89-41cdfc118afd"
      },
      "execution_count": null,
      "outputs": [
        {
          "output_type": "stream",
          "name": "stdout",
          "text": [
            "Select option:\n",
            "1. Encryption\n",
            "2. Decryption\n",
            "Enter option number: 1\n",
            "Enter plaintext: Password: Rushil123\n",
            "Enter AES key (16 bytes): 0x2b7e151628aed2a6abf7158809cf4f3\n",
            "Ciphertext: 6b235c03fec30609c6b03dde06f58895c5cf797458d6e26c6a5fd6bd69ffa1e8\n",
            "Execution time: 0.000265 seconds\n"
          ]
        }
      ]
    }
  ]
}